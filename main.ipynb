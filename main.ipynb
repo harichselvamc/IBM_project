{
 "cells": [
  {
   "cell_type": "markdown",
   "metadata": {},
   "source": [
    "# Macro Economic Analysis : Investigating Inflation trend with R"
   ]
  },
  {
   "cell_type": "markdown",
   "metadata": {},
   "source": [
    "# What is MacroEconomics?\n",
    "\n",
    "- Branch of Economics that Focuses on the study of the overall economy , including factors like national income, unemployment , inflation and economic growth.\n",
    "\n",
    "- It examines how these variables interact and how the goverment policies impact the broader economic systems.\n",
    "\n",
    "- * MicroEconomics - particularly about a company or a business"
   ]
  },
  {
   "cell_type": "markdown",
   "metadata": {},
   "source": [
    "Inflation refers to the general increase in prices over time; for instance, if the price of mangoes rises from ₹10 to ₹15 due to inflation, it indicates a decrease in the purchasing power of money.\n",
    "\n",
    "<hr>"
   ]
  },
  {
   "cell_type": "markdown",
   "metadata": {},
   "source": [
    "# Types of Inflation\n",
    "<hr>"
   ]
  },
  {
   "cell_type": "markdown",
   "metadata": {},
   "source": [
    "-  Demand-Supply Gap:\n",
    "    * Imagine there's a fruit called Mango, and it's very popular during summer in India. Now, if there aren't enough mangoes available in the market because maybe the weather was bad for growing mangoes, but many people still want to buy them, this creates a demand-supply gap. It means there's more demand (people wanting mangoes) than there is supply (mangoes available for sale)\n",
    "\n",
    "\n",
    "\n",
    "\n",
    "- Demand-Pull Inflation:\n",
    "    * Let's stick with our Mango example. Suppose during a particular summer, a lot more people want to buy mangoes than usual. This increased demand for mangoes can lead to demand-pull inflation. It happens when prices of mangoes go up because everyone wants to buy them, but there aren't enough mangoes to meet everyone's demand. So, sellers can charge higher prices.\n",
    "\n",
    "- Cost-Push Inflation:\n",
    "    * Now, let's think about another fruit, like Apples. If suddenly the cost of growing apples goes up, maybe because the price of fertilizer or labor increases, then the cost of producing apples rises. This can lead to cost-push inflation. As it becomes more expensive to produce apples, sellers might raise the price of apples to cover their increased costs.\n",
    "\n",
    "- Built-In Inflation:\n",
    "    * Think of Bananas for this one. Sometimes, when workers expect prices to go up, they might ask for higher wages. If a farmer expects the price of bananas to increase, they might raise the wages of the workers who pick the bananas. Then, to cover the higher wages, the farmer might increase the price of bananas. This cycle of workers asking for higher wages and companies raising prices to cover those wages is called built-in inflation.\n"
   ]
  },
  {
   "cell_type": "markdown",
   "metadata": {},
   "source": [
    "<hr>"
   ]
  },
  {
   "cell_type": "markdown",
   "metadata": {},
   "source": [
    "# Factors That Cause Inflation"
   ]
  },
  {
   "cell_type": "markdown",
   "metadata": {},
   "source": [
    "- Supply chain Disruptions ( natural disaster , geopolitical conflicts , war and other distruptions in the supply can reduce the availablity of goods , reduce the supply of goods which will drive the price up ).\n",
    "\n",
    "- Exchange Rate Fluctuations \n",
    "\n",
    "- Growing Population\n",
    "\n"
   ]
  },
  {
   "cell_type": "markdown",
   "metadata": {},
   "source": [
    "# How High Interest Rate Impacts the Market?"
   ]
  },
  {
   "cell_type": "markdown",
   "metadata": {},
   "source": [
    "|                         |                          |\n",
    "|-------------------------|--------------------------|\n",
    "| **Cost of Borrowing**   | **Consumer Spending**    |\n",
    "| When interest rates are high, the cost of borrowing money increases. This affects businesses that rely on loans and credit to fund their operations and expansion. Higher interest rates can lead to higher borrowing costs, making it more expensive for businesses to invest in new projects, purchase equipment, or expand their operations. | Interest rates impact consumer spending as well. When interest rates are low, consumers may be more inclined to borrow and spend, which can drive demand for goods and services and stimulate economic activity. Increased consumer spending can benefit businesses, leading to higher investment in production and expansion. |\n",
    "|                         |                          |\n",
    "| **Stock Market**        | **Real Estate Market**   |\n",
    "| Interest rates can affect stock prices and investor behavior. When interest rates are low, the cost of borrowing to invest in stocks decreases, potentially leading to higher demand for stocks. However, if interest rates rise significantly, investors might shift their focus from stocks to fixed-income investments like bonds, which can impact the stock market. | Interest rates have a strong influence on the real estate market. When interest rates are low, borrowing costs for home purchases decrease, making housing more affordable. This can lead to higher demand for homes and an increase in real estate investment, including construction and property development. |\n"
   ]
  },
  {
   "cell_type": "markdown",
   "metadata": {},
   "source": [
    "# Analysis"
   ]
  },
  {
   "cell_type": "code",
   "execution_count": null,
   "metadata": {
    "vscode": {
     "languageId": "r"
    }
   },
   "outputs": [],
   "source": [
    "install.packages(\"readr\")"
   ]
  },
  {
   "cell_type": "code",
   "execution_count": null,
   "metadata": {
    "vscode": {
     "languageId": "r"
    }
   },
   "outputs": [],
   "source": [
    "library(readr)"
   ]
  },
  {
   "cell_type": "code",
   "execution_count": null,
   "metadata": {
    "vscode": {
     "languageId": "r"
    }
   },
   "outputs": [],
   "source": [
    "dataset<-read_csv(\"inflation interest unemployment.csv\")"
   ]
  },
  {
   "cell_type": "code",
   "execution_count": null,
   "metadata": {
    "vscode": {
     "languageId": "r"
    }
   },
   "outputs": [],
   "source": [
    "head(dataset)"
   ]
  },
  {
   "cell_type": "code",
   "execution_count": null,
   "metadata": {
    "vscode": {
     "languageId": "r"
    }
   },
   "outputs": [],
   "source": [
    "str(dataset)"
   ]
  },
  {
   "cell_type": "code",
   "execution_count": null,
   "metadata": {
    "vscode": {
     "languageId": "r"
    }
   },
   "outputs": [],
   "source": [
    "summary(dataset)"
   ]
  },
  {
   "cell_type": "code",
   "execution_count": null,
   "metadata": {
    "vscode": {
     "languageId": "r"
    }
   },
   "outputs": [],
   "source": [
    "dim(dataset)"
   ]
  },
  {
   "cell_type": "code",
   "execution_count": null,
   "metadata": {
    "vscode": {
     "languageId": "r"
    }
   },
   "outputs": [],
   "source": [
    "colnames(dataset)"
   ]
  },
  {
   "cell_type": "markdown",
   "metadata": {},
   "source": [
    "# Data cleaning"
   ]
  },
  {
   "cell_type": "code",
   "execution_count": null,
   "metadata": {
    "vscode": {
     "languageId": "r"
    }
   },
   "outputs": [],
   "source": [
    "cleaned_data<-na.omit(dataset)"
   ]
  },
  {
   "cell_type": "code",
   "execution_count": null,
   "metadata": {
    "vscode": {
     "languageId": "r"
    }
   },
   "outputs": [],
   "source": [
    "dim(cleaned_data)"
   ]
  },
  {
   "cell_type": "code",
   "execution_count": null,
   "metadata": {
    "vscode": {
     "languageId": "r"
    }
   },
   "outputs": [],
   "source": [
    "# write.csv(cleaned_data,\"cleaneddataset.csv\",row.names=FALSE)"
   ]
  },
  {
   "cell_type": "code",
   "execution_count": 79,
   "metadata": {
    "vscode": {
     "languageId": "r"
    }
   },
   "outputs": [],
   "source": [
    "dataset <- read.csv(\"cleaneddataset.csv\")\n"
   ]
  },
  {
   "cell_type": "code",
   "execution_count": 104,
   "metadata": {
    "vscode": {
     "languageId": "r"
    }
   },
   "outputs": [
    {
     "data": {
      "text/html": [
       "<style>\n",
       ".list-inline {list-style: none; margin:0; padding: 0}\n",
       ".list-inline>li {display: inline-block}\n",
       ".list-inline>li:not(:last-child)::after {content: \"\\00b7\"; padding: 0 .5ex}\n",
       "</style>\n",
       "<ol class=list-inline><li>'country'</li><li>'year'</li><li>'Inflation..consumer.prices..annual...'</li><li>'Inflation..GDP.deflator..annual...'</li><li>'Real.interest.rate....'</li><li>'Deposit.interest.rate....'</li><li>'Lending.interest.rate....'</li><li>'Unemployment..total....of.total.labor.force...national.estimate.'</li><li>'Unemployment..total....of.total.labor.force...modeled.ILO.estimate.'</li><li>'iso3c'</li><li>'iso2c'</li><li>'adminregion'</li><li>'incomeLevel'</li></ol>\n"
      ],
      "text/latex": [
       "\\begin{enumerate*}\n",
       "\\item 'country'\n",
       "\\item 'year'\n",
       "\\item 'Inflation..consumer.prices..annual...'\n",
       "\\item 'Inflation..GDP.deflator..annual...'\n",
       "\\item 'Real.interest.rate....'\n",
       "\\item 'Deposit.interest.rate....'\n",
       "\\item 'Lending.interest.rate....'\n",
       "\\item 'Unemployment..total....of.total.labor.force...national.estimate.'\n",
       "\\item 'Unemployment..total....of.total.labor.force...modeled.ILO.estimate.'\n",
       "\\item 'iso3c'\n",
       "\\item 'iso2c'\n",
       "\\item 'adminregion'\n",
       "\\item 'incomeLevel'\n",
       "\\end{enumerate*}\n"
      ],
      "text/markdown": [
       "1. 'country'\n",
       "2. 'year'\n",
       "3. 'Inflation..consumer.prices..annual...'\n",
       "4. 'Inflation..GDP.deflator..annual...'\n",
       "5. 'Real.interest.rate....'\n",
       "6. 'Deposit.interest.rate....'\n",
       "7. 'Lending.interest.rate....'\n",
       "8. 'Unemployment..total....of.total.labor.force...national.estimate.'\n",
       "9. 'Unemployment..total....of.total.labor.force...modeled.ILO.estimate.'\n",
       "10. 'iso3c'\n",
       "11. 'iso2c'\n",
       "12. 'adminregion'\n",
       "13. 'incomeLevel'\n",
       "\n",
       "\n"
      ],
      "text/plain": [
       " [1] \"country\"                                                            \n",
       " [2] \"year\"                                                               \n",
       " [3] \"Inflation..consumer.prices..annual...\"                              \n",
       " [4] \"Inflation..GDP.deflator..annual...\"                                 \n",
       " [5] \"Real.interest.rate....\"                                             \n",
       " [6] \"Deposit.interest.rate....\"                                          \n",
       " [7] \"Lending.interest.rate....\"                                          \n",
       " [8] \"Unemployment..total....of.total.labor.force...national.estimate.\"   \n",
       " [9] \"Unemployment..total....of.total.labor.force...modeled.ILO.estimate.\"\n",
       "[10] \"iso3c\"                                                              \n",
       "[11] \"iso2c\"                                                              \n",
       "[12] \"adminregion\"                                                        \n",
       "[13] \"incomeLevel\"                                                        "
      ]
     },
     "metadata": {},
     "output_type": "display_data"
    }
   ],
   "source": [
    "colnames(dataset)"
   ]
  },
  {
   "cell_type": "code",
   "execution_count": 103,
   "metadata": {
    "vscode": {
     "languageId": "r"
    }
   },
   "outputs": [
    {
     "data": {
      "text/html": [
       "<table class=\"dataframe\">\n",
       "<caption>A data.frame: 6 × 13</caption>\n",
       "<thead>\n",
       "\t<tr><th></th><th scope=col>country</th><th scope=col>year</th><th scope=col>Inflation..consumer.prices..annual...</th><th scope=col>Inflation..GDP.deflator..annual...</th><th scope=col>Real.interest.rate....</th><th scope=col>Deposit.interest.rate....</th><th scope=col>Lending.interest.rate....</th><th scope=col>Unemployment..total....of.total.labor.force...national.estimate.</th><th scope=col>Unemployment..total....of.total.labor.force...modeled.ILO.estimate.</th><th scope=col>iso3c</th><th scope=col>iso2c</th><th scope=col>adminregion</th><th scope=col>incomeLevel</th></tr>\n",
       "\t<tr><th></th><th scope=col>&lt;chr&gt;</th><th scope=col>&lt;int&gt;</th><th scope=col>&lt;dbl&gt;</th><th scope=col>&lt;dbl&gt;</th><th scope=col>&lt;dbl&gt;</th><th scope=col>&lt;dbl&gt;</th><th scope=col>&lt;dbl&gt;</th><th scope=col>&lt;dbl&gt;</th><th scope=col>&lt;dbl&gt;</th><th scope=col>&lt;chr&gt;</th><th scope=col>&lt;chr&gt;</th><th scope=col>&lt;chr&gt;</th><th scope=col>&lt;chr&gt;</th></tr>\n",
       "</thead>\n",
       "<tbody>\n",
       "\t<tr><th scope=row>1</th><td>Albania</td><td>1992</td><td>226.005421</td><td>232.984659</td><td>-63.787120</td><td>18.50000</td><td>20.58333</td><td>26.5</td><td>30.015</td><td>ALB</td><td>AL</td><td>Europe &amp; Central Asia (excluding high income)</td><td>Upper middle income</td></tr>\n",
       "\t<tr><th scope=row>2</th><td>Albania</td><td>1993</td><td> 85.004751</td><td>125.650814</td><td>-42.573514</td><td>27.33333</td><td>29.58333</td><td>22.3</td><td>25.258</td><td>ALB</td><td>AL</td><td>Europe &amp; Central Asia (excluding high income)</td><td>Upper middle income</td></tr>\n",
       "\t<tr><th scope=row>3</th><td>Albania</td><td>1994</td><td> 22.565053</td><td> 35.842475</td><td> -8.963182</td><td>19.83333</td><td>23.66667</td><td>18.4</td><td>20.840</td><td>ALB</td><td>AL</td><td>Europe &amp; Central Asia (excluding high income)</td><td>Upper middle income</td></tr>\n",
       "\t<tr><th scope=row>4</th><td>Albania</td><td>1995</td><td><span style=white-space:pre-wrap>  7.793219</span></td><td><span style=white-space:pre-wrap>  9.970663</span></td><td><span style=white-space:pre-wrap>  8.801745</span></td><td>15.30000</td><td>19.65000</td><td>12.9</td><td>14.611</td><td>ALB</td><td>AL</td><td>Europe &amp; Central Asia (excluding high income)</td><td>Upper middle income</td></tr>\n",
       "\t<tr><th scope=row>5</th><td>Albania</td><td>1996</td><td> 12.725478</td><td> 38.172058</td><td>-10.286975</td><td>16.78333</td><td>23.95833</td><td>12.3</td><td>13.931</td><td>ALB</td><td>AL</td><td>Europe &amp; Central Asia (excluding high income)</td><td>Upper middle income</td></tr>\n",
       "\t<tr><th scope=row>6</th><td>Albania</td><td>1997</td><td> 33.180274</td><td> 11.239644</td><td> 19.299494</td><td>27.27583</td><td>32.70833</td><td>14.9</td><td>16.876</td><td>ALB</td><td>AL</td><td>Europe &amp; Central Asia (excluding high income)</td><td>Upper middle income</td></tr>\n",
       "</tbody>\n",
       "</table>\n"
      ],
      "text/latex": [
       "A data.frame: 6 × 13\n",
       "\\begin{tabular}{r|lllllllllllll}\n",
       "  & country & year & Inflation..consumer.prices..annual... & Inflation..GDP.deflator..annual... & Real.interest.rate.... & Deposit.interest.rate.... & Lending.interest.rate.... & Unemployment..total....of.total.labor.force...national.estimate. & Unemployment..total....of.total.labor.force...modeled.ILO.estimate. & iso3c & iso2c & adminregion & incomeLevel\\\\\n",
       "  & <chr> & <int> & <dbl> & <dbl> & <dbl> & <dbl> & <dbl> & <dbl> & <dbl> & <chr> & <chr> & <chr> & <chr>\\\\\n",
       "\\hline\n",
       "\t1 & Albania & 1992 & 226.005421 & 232.984659 & -63.787120 & 18.50000 & 20.58333 & 26.5 & 30.015 & ALB & AL & Europe \\& Central Asia (excluding high income) & Upper middle income\\\\\n",
       "\t2 & Albania & 1993 &  85.004751 & 125.650814 & -42.573514 & 27.33333 & 29.58333 & 22.3 & 25.258 & ALB & AL & Europe \\& Central Asia (excluding high income) & Upper middle income\\\\\n",
       "\t3 & Albania & 1994 &  22.565053 &  35.842475 &  -8.963182 & 19.83333 & 23.66667 & 18.4 & 20.840 & ALB & AL & Europe \\& Central Asia (excluding high income) & Upper middle income\\\\\n",
       "\t4 & Albania & 1995 &   7.793219 &   9.970663 &   8.801745 & 15.30000 & 19.65000 & 12.9 & 14.611 & ALB & AL & Europe \\& Central Asia (excluding high income) & Upper middle income\\\\\n",
       "\t5 & Albania & 1996 &  12.725478 &  38.172058 & -10.286975 & 16.78333 & 23.95833 & 12.3 & 13.931 & ALB & AL & Europe \\& Central Asia (excluding high income) & Upper middle income\\\\\n",
       "\t6 & Albania & 1997 &  33.180274 &  11.239644 &  19.299494 & 27.27583 & 32.70833 & 14.9 & 16.876 & ALB & AL & Europe \\& Central Asia (excluding high income) & Upper middle income\\\\\n",
       "\\end{tabular}\n"
      ],
      "text/markdown": [
       "\n",
       "A data.frame: 6 × 13\n",
       "\n",
       "| <!--/--> | country &lt;chr&gt; | year &lt;int&gt; | Inflation..consumer.prices..annual... &lt;dbl&gt; | Inflation..GDP.deflator..annual... &lt;dbl&gt; | Real.interest.rate.... &lt;dbl&gt; | Deposit.interest.rate.... &lt;dbl&gt; | Lending.interest.rate.... &lt;dbl&gt; | Unemployment..total....of.total.labor.force...national.estimate. &lt;dbl&gt; | Unemployment..total....of.total.labor.force...modeled.ILO.estimate. &lt;dbl&gt; | iso3c &lt;chr&gt; | iso2c &lt;chr&gt; | adminregion &lt;chr&gt; | incomeLevel &lt;chr&gt; |\n",
       "|---|---|---|---|---|---|---|---|---|---|---|---|---|---|\n",
       "| 1 | Albania | 1992 | 226.005421 | 232.984659 | -63.787120 | 18.50000 | 20.58333 | 26.5 | 30.015 | ALB | AL | Europe &amp; Central Asia (excluding high income) | Upper middle income |\n",
       "| 2 | Albania | 1993 |  85.004751 | 125.650814 | -42.573514 | 27.33333 | 29.58333 | 22.3 | 25.258 | ALB | AL | Europe &amp; Central Asia (excluding high income) | Upper middle income |\n",
       "| 3 | Albania | 1994 |  22.565053 |  35.842475 |  -8.963182 | 19.83333 | 23.66667 | 18.4 | 20.840 | ALB | AL | Europe &amp; Central Asia (excluding high income) | Upper middle income |\n",
       "| 4 | Albania | 1995 |   7.793219 |   9.970663 |   8.801745 | 15.30000 | 19.65000 | 12.9 | 14.611 | ALB | AL | Europe &amp; Central Asia (excluding high income) | Upper middle income |\n",
       "| 5 | Albania | 1996 |  12.725478 |  38.172058 | -10.286975 | 16.78333 | 23.95833 | 12.3 | 13.931 | ALB | AL | Europe &amp; Central Asia (excluding high income) | Upper middle income |\n",
       "| 6 | Albania | 1997 |  33.180274 |  11.239644 |  19.299494 | 27.27583 | 32.70833 | 14.9 | 16.876 | ALB | AL | Europe &amp; Central Asia (excluding high income) | Upper middle income |\n",
       "\n"
      ],
      "text/plain": [
       "  country year Inflation..consumer.prices..annual...\n",
       "1 Albania 1992 226.005421                           \n",
       "2 Albania 1993  85.004751                           \n",
       "3 Albania 1994  22.565053                           \n",
       "4 Albania 1995   7.793219                           \n",
       "5 Albania 1996  12.725478                           \n",
       "6 Albania 1997  33.180274                           \n",
       "  Inflation..GDP.deflator..annual... Real.interest.rate....\n",
       "1 232.984659                         -63.787120            \n",
       "2 125.650814                         -42.573514            \n",
       "3  35.842475                          -8.963182            \n",
       "4   9.970663                           8.801745            \n",
       "5  38.172058                         -10.286975            \n",
       "6  11.239644                          19.299494            \n",
       "  Deposit.interest.rate.... Lending.interest.rate....\n",
       "1 18.50000                  20.58333                 \n",
       "2 27.33333                  29.58333                 \n",
       "3 19.83333                  23.66667                 \n",
       "4 15.30000                  19.65000                 \n",
       "5 16.78333                  23.95833                 \n",
       "6 27.27583                  32.70833                 \n",
       "  Unemployment..total....of.total.labor.force...national.estimate.\n",
       "1 26.5                                                            \n",
       "2 22.3                                                            \n",
       "3 18.4                                                            \n",
       "4 12.9                                                            \n",
       "5 12.3                                                            \n",
       "6 14.9                                                            \n",
       "  Unemployment..total....of.total.labor.force...modeled.ILO.estimate. iso3c\n",
       "1 30.015                                                              ALB  \n",
       "2 25.258                                                              ALB  \n",
       "3 20.840                                                              ALB  \n",
       "4 14.611                                                              ALB  \n",
       "5 13.931                                                              ALB  \n",
       "6 16.876                                                              ALB  \n",
       "  iso2c adminregion                                   incomeLevel        \n",
       "1 AL    Europe & Central Asia (excluding high income) Upper middle income\n",
       "2 AL    Europe & Central Asia (excluding high income) Upper middle income\n",
       "3 AL    Europe & Central Asia (excluding high income) Upper middle income\n",
       "4 AL    Europe & Central Asia (excluding high income) Upper middle income\n",
       "5 AL    Europe & Central Asia (excluding high income) Upper middle income\n",
       "6 AL    Europe & Central Asia (excluding high income) Upper middle income"
      ]
     },
     "metadata": {},
     "output_type": "display_data"
    }
   ],
   "source": [
    "head(dataset)"
   ]
  },
  {
   "cell_type": "code",
   "execution_count": 85,
   "metadata": {
    "vscode": {
     "languageId": "r"
    }
   },
   "outputs": [],
   "source": [
    "\n",
    "country_data <- dataset %>% filter(country == \"China\")\n"
   ]
  },
  {
   "cell_type": "code",
   "execution_count": 86,
   "metadata": {
    "vscode": {
     "languageId": "r"
    }
   },
   "outputs": [],
   "source": [
    "interest_rate<-country_data$Real.interest.rate...."
   ]
  },
  {
   "cell_type": "code",
   "execution_count": 87,
   "metadata": {
    "vscode": {
     "languageId": "r"
    }
   },
   "outputs": [],
   "source": [
    "\n",
    "inflation <- country_data$`Inflation..consumer.prices..annual...`\n"
   ]
  },
  {
   "cell_type": "code",
   "execution_count": 88,
   "metadata": {
    "vscode": {
     "languageId": "r"
    }
   },
   "outputs": [],
   "source": [
    "\n",
    "complete_data <- na.omit(data.frame(interest_rate,inflation))"
   ]
  },
  {
   "cell_type": "code",
   "execution_count": 89,
   "metadata": {
    "vscode": {
     "languageId": "r"
    }
   },
   "outputs": [
    {
     "name": "stdout",
     "output_type": "stream",
     "text": [
      "   interest_rate  inflation\n",
      "1      1.8043119  3.5566857\n",
      "2      0.4156351  6.3539813\n",
      "3     -3.6513721 14.6100786\n",
      "4     -7.9897442 24.2569897\n",
      "5     -1.4126482 16.7912252\n",
      "6      3.3549705  8.3131603\n",
      "7      6.9116989  2.7864651\n",
      "8      7.3564784 -0.7731860\n",
      "9      7.2040503 -1.4014727\n",
      "10     3.7106641  0.3478112\n",
      "11     3.7266639  0.7191256\n",
      "12     4.6797243 -0.7319709\n",
      "13     2.6381466  1.1276035\n",
      "14    -1.2828117  3.8246374\n",
      "15     1.6132775  1.7764141\n",
      "16     2.1105777  1.6494310\n",
      "17    -0.2595706  4.8167677\n",
      "18    -2.3056153  5.9252514\n",
      "19     5.5311229 -0.7281653\n",
      "20    -1.0024012  3.1753248\n",
      "21    -1.4024287  5.5538989\n",
      "22     3.5852035  2.6195243\n",
      "23     3.7553871  2.6210500\n",
      "24     4.5223084  1.9216416\n",
      "25     0.1125540  1.5931360\n",
      "26     0.8215019  2.0747904\n",
      "27     3.0236203  2.8992342\n"
     ]
    }
   ],
   "source": [
    "print(complete_data)"
   ]
  },
  {
   "cell_type": "code",
   "execution_count": 90,
   "metadata": {
    "vscode": {
     "languageId": "r"
    }
   },
   "outputs": [],
   "source": [
    "correlation <- cor(complete_data$interest_rate,complete_data$inflation)"
   ]
  },
  {
   "cell_type": "code",
   "execution_count": 91,
   "metadata": {
    "vscode": {
     "languageId": "r"
    }
   },
   "outputs": [
    {
     "name": "stdout",
     "output_type": "stream",
     "text": [
      "[1] \"Correlation coefficient for China: -0.788061905518562\"\n"
     ]
    }
   ],
   "source": [
    "print(paste(\"Correlation coefficient for China:\", correlation))"
   ]
  },
  {
   "cell_type": "markdown",
   "metadata": {},
   "source": [
    "it indicates a strong negative correlation (as one variable increases, the other tends to decrease)."
   ]
  },
  {
   "cell_type": "code",
   "execution_count": 92,
   "metadata": {
    "vscode": {
     "languageId": "r"
    }
   },
   "outputs": [],
   "source": [
    "library(\"ggplot2\")"
   ]
  },
  {
   "cell_type": "code",
   "execution_count": 94,
   "metadata": {
    "vscode": {
     "languageId": "r"
    }
   },
   "outputs": [
    {
     "data": {
      "image/png": "[encoded data removed]",
      "text/plain": [
       "plot without title"
      ]
     },
     "metadata": {
      "image/png": {
       "height": 420,
       "width": 420
      }
     },
     "output_type": "display_data"
    }
   ],
   "source": [
    "scatter_plot <- ggplot(country_data, aes(x=`Inflation..consumer.prices..annual...`,y=`Real.interest.rate....`)) +\n",
    "  geom_point() + \n",
    "  labs(title = \"Inflation vs Interest Rate - China\", x = \"Inflation(%)\", y=\"Interest Rate\")\n",
    "print(scatter_plot)\n"
   ]
  },
  {
   "cell_type": "markdown",
   "metadata": {},
   "source": [
    "# Unemployment"
   ]
  },
  {
   "cell_type": "code",
   "execution_count": 95,
   "metadata": {
    "vscode": {
     "languageId": "r"
    }
   },
   "outputs": [],
   "source": [
    "unemployment_rate<-country_data$Unemployment..total....of.total.labor.force...national.estimate."
   ]
  },
  {
   "cell_type": "code",
   "execution_count": 96,
   "metadata": {
    "vscode": {
     "languageId": "r"
    }
   },
   "outputs": [],
   "source": [
    "\n",
    "inflation <- country_data$`Inflation..consumer.prices..annual...`\n"
   ]
  },
  {
   "cell_type": "code",
   "execution_count": 97,
   "metadata": {
    "vscode": {
     "languageId": "r"
    }
   },
   "outputs": [],
   "source": [
    "correlation <- cor(unemployment_rate,inflation)"
   ]
  },
  {
   "cell_type": "code",
   "execution_count": 98,
   "metadata": {
    "vscode": {
     "languageId": "r"
    }
   },
   "outputs": [
    {
     "name": "stdout",
     "output_type": "stream",
     "text": [
      "[1] \"Correlation coefficient for China: -0.435995967109886\"\n"
     ]
    }
   ],
   "source": [
    "print(paste(\"Correlation coefficient for China:\", correlation))"
   ]
  },
  {
   "cell_type": "markdown",
   "metadata": {},
   "source": [
    "it indicates a Moderate negative correlation (as one variable increases, the other tends to decrease)."
   ]
  },
  {
   "cell_type": "code",
   "execution_count": 100,
   "metadata": {
    "vscode": {
     "languageId": "r"
    }
   },
   "outputs": [
    {
     "data": {
      "image/png": "[encoded data removed]",
      "text/plain": [
       "plot without title"
      ]
     },
     "metadata": {
      "image/png": {
       "height": 420,
       "width": 420
      }
     },
     "output_type": "display_data"
    }
   ],
   "source": [
    "scatter_plot <- ggplot(country_data, aes(x=`Inflation..consumer.prices..annual...`,y=`Unemployment..total....of.total.labor.force...national.estimate.`)) +\n",
    "  geom_point() + \n",
    "  labs(title = \"Inflation vs Unemployment Rate - China\", x = \"Inflation(%)\", y=\"Unemployment Rate\")\n",
    "print(scatter_plot)"
   ]
  }
 ],
 "metadata": {
  "kernelspec": {
   "display_name": "R",
   "language": "R",
   "name": "ir"
  },
  "language_info": {
   "codemirror_mode": "r",
   "file_extension": ".r",
   "mimetype": "text/x-r-source",
   "name": "R",
   "pygments_lexer": "r",
   "version": "4.3.2"
  }
 },
 "nbformat": 4,
 "nbformat_minor": 2
}
